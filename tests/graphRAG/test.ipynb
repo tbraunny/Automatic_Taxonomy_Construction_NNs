{
 "cells": [
  {
   "cell_type": "code",
   "execution_count": 23,
   "metadata": {},
   "outputs": [],
   "source": [
    "from neo4j import GraphDatabase\n",
    "from yfiles_jupyter_graphs import GraphWidget"
   ]
  },
  {
   "cell_type": "code",
   "execution_count": 24,
   "metadata": {},
   "outputs": [],
   "source": [
    "url = \"bolt://localhost:7687\"\n",
    "username = \"neo4j\"\n",
    "password= \"neo4j\"\n",
    "\n",
    "driver = GraphDatabase.driver(url, auth=(username, password))"
   ]
  },
  {
   "cell_type": "code",
   "execution_count": 25,
   "metadata": {},
   "outputs": [],
   "source": [
    "def queryNeo4j(driver, query):\n",
    "    \"\"\"Runs a single Cypher query.\"\"\"\n",
    "    with driver.session() as session:\n",
    "        try:\n",
    "            session.run(query)\n",
    "            # print(\"Query executed successfully.\")\n",
    "        except Exception as e:\n",
    "            print(f\"Error executing query: {e}\")"
   ]
  },
  {
   "cell_type": "code",
   "execution_count": 26,
   "metadata": {},
   "outputs": [],
   "source": [
    "#deletes all nodes\n",
    "queryNeo4j(driver , \"MATCH(n) DETACH DELETE n;\")"
   ]
  },
  {
   "cell_type": "code",
   "execution_count": null,
   "metadata": {},
   "outputs": [],
   "source": [
    "#dels constraint\n",
    "queryNeo4j(driver , \"DROP CONSTRAINT n10s_unique_uri;\")"
   ]
  },
  {
   "cell_type": "code",
   "execution_count": 28,
   "metadata": {},
   "outputs": [
    {
     "name": "stdout",
     "output_type": "stream",
     "text": [
      "Constraint created successfully.\n"
     ]
    }
   ],
   "source": [
    "def create_constraint(driver):\n",
    "    # Create a session\n",
    "    with driver.session() as session:\n",
    "        # Run the updated Cypher query to create the constraint\n",
    "        cypher_query = \"\"\"CREATE CONSTRAINT n10s_unique_uri FOR (r:Resource) REQUIRE r.uri IS UNIQUE;\"\"\"\n",
    "        session.run(cypher_query)\n",
    "        print(\"Constraint created successfully.\")\n",
    "\n",
    "# Call the function to create the constraint\n",
    "create_constraint(driver)"
   ]
  },
  {
   "cell_type": "code",
   "execution_count": 29,
   "metadata": {},
   "outputs": [],
   "source": [
    "queryNeo4j(driver, \"\"\"CALL n10s.graphconfig.init({\n",
    "    handleVocabUris: \"SHORTEN\",\n",
    "    keepLangTag: false,\n",
    "    handleMultival: \"ARRAY\"\n",
    "});   \n",
    "           \"\"\")"
   ]
  },
  {
   "cell_type": "code",
   "execution_count": 30,
   "metadata": {},
   "outputs": [],
   "source": [
    "# original annetto\n",
    "# queryNeo4j(driver, \"CALL n10s.rdf.import.fetch(\\\"https://raw.githubusercontent.com/iaklampanos/annett-o/refs/heads/master/annett-o-0.1.owl\\\",\\\"RDF/XML\\\");\")\n",
    "\n",
    "#github\n",
    "queryNeo4j(driver, \"CALL n10s.rdf.import.fetch(\\\"https://github.com/tbraunny/Automatic_Taxonomy_Construction_NNs/blob/f5c03faf4eaed4287cdb6729eca63a435bbf1525/data/owl/annett-o-test.owl\\\",\\\"RDF/XML\\\");\")\n",
    "\n",
    "#local\n",
    "# queryNeo4j(driver, \"CALL n10s.rdf.import.fetch(\\\"file:///home/lukas/CS425/Automatic_Taxonomy_Construction_NNs/data/annett-o-test.owl\\\",\\\"RDF/XML\\\");\")\n",
    "\n"
   ]
  },
  {
   "cell_type": "code",
   "execution_count": 34,
   "metadata": {},
   "outputs": [],
   "source": [
    "#strips URI\n",
    "queryNeo4j(driver, \"\"\"\n",
    "MATCH (n)\n",
    "WHERE n.uri STARTS WITH 'http://w3id.org/annett-o/'\n",
    "SET n.uri = SPLIT(n.uri, '/')[SIZE(SPLIT(n.uri, '/')) - 1]\n",
    "\"\"\")"
   ]
  },
  {
   "cell_type": "code",
   "execution_count": 36,
   "metadata": {},
   "outputs": [],
   "source": [
    "#makes taxonomy\n",
    "queryNeo4j(driver, \"\"\"\n",
    "MERGE (taskType_Taxon:Taxonomy {name: 'TaskType', type: 'CategoryTask'})\n",
    "MERGE (FullyConnectedLayerType_Taxon:Taxonomy {name: 'LayerType', type: 'CategoryLayer', LayerTypes: 'FullyConnected'})\n",
    "MERGE (CompositeLayerType_B_C_D_FC_Taxon:Taxonomy {name: 'LayerType', type: 'CategoryLayer', LayerTypes: 'BatchNorm, Concat, Dropout, FullyConnected'})\n",
    "MERGE (GAN_Taxon:Taxonomy {name: 'GAN', type: 'Network', task: 'Adversarial, Classification, Generative', LayerTypes: 'FullyConnected'})\n",
    "MERGE (AAE_Taxon:Taxonomy {name: 'AAE', type: 'Network', task: 'Adversarial, Clustering, Discrimination, Generation, Reconstruction', LayerTypes: 'BatchNorm, Concat, Dropout, FullyConnected'})\n",
    "MERGE (simpleClassification_Taxon:Taxonomy {name: 'SimpleClassification', type: 'Network', task: 'SupervisedClassification', LayerTypes: 'FullyConnected'})\n",
    "MERGE (taskType_Taxon)-[:hasAdversarial]->(FullyConnectedLayerType_Taxon)\n",
    "MERGE (taskType_Taxon)-[:hasClassification]->(FullyConnectedLayerType_Taxon)\n",
    "MERGE (taskType_Taxon)-[:hasGenerative]->(FullyConnectedLayerType_Taxon)\n",
    "MERGE (taskType_Taxon)-[:hasSupervisedClassification]->(FullyConnectedLayerType_Taxon)\n",
    "MERGE (taskType_Taxon)-[:hasAdversarial]->(CompositeLayerType_B_C_D_FC_Taxon)\n",
    "MERGE (taskType_Taxon)-[:hasClustering]->(CompositeLayerType_B_C_D_FC_Taxon)\n",
    "MERGE (taskType_Taxon)-[:hasDiscrimination]->(CompositeLayerType_B_C_D_FC_Taxon)\n",
    "MERGE (taskType_Taxon)-[:hasGeneration]->(CompositeLayerType_B_C_D_FC_Taxon)\n",
    "MERGE (taskType_Taxon)-[:hasReconstruction]->(CompositeLayerType_B_C_D_FC_Taxon)\n",
    "MERGE (CompositeLayerType_B_C_D_FC_Taxon)-[:hasBatchNorm]->(AAE_Taxon)\n",
    "MERGE (CompositeLayerType_B_C_D_FC_Taxon)-[:hasConcat]->(AAE_Taxon)\n",
    "MERGE (CompositeLayerType_B_C_D_FC_Taxon)-[:hasDropout]->(AAE_Taxon)\n",
    "MERGE (CompositeLayerType_B_C_D_FC_Taxon)-[:hasFullyConnected]->(AAE_Taxon)\n",
    "MERGE (FullyConnectedLayerType_Taxon)-[:hasFullyConnected]->(GAN_Taxon)\n",
    "MERGE (FullyConnectedLayerType_Taxon)-[:hasFullyConnected]->(simpleClassification_Taxon)\n",
    "\"\"\")"
   ]
  },
  {
   "cell_type": "code",
   "execution_count": 39,
   "metadata": {},
   "outputs": [
    {
     "data": {
      "application/vnd.jupyter.widget-view+json": {
       "model_id": "9223ec7794fd45608b331f93e49b1ff0",
       "version_major": 2,
       "version_minor": 0
      },
      "text/plain": [
       "GraphWidget(layout=Layout(height='800px', width='100%'))"
      ]
     },
     "metadata": {},
     "output_type": "display_data"
    }
   ],
   "source": [
    "from yfiles_jupyter_graphs import GraphWidget\n",
    "def showGraph():\n",
    "    session = driver.session()\n",
    "    widget = GraphWidget(graph = session.run(\"MATCH (n)-[r]->(m) RETURN n, r, m\").graph())\n",
    "    widget.node_label_mapping = 'uri'\n",
    "    widget.circular_layout()\n",
    "    widget.set_sidebar(start_with='Data')\n",
    "    return widget\n",
    "\n",
    "showGraph()"
   ]
  },
  {
   "cell_type": "code",
   "execution_count": null,
   "metadata": {
    "vscode": {
     "languageId": "markdown"
    }
   },
   "outputs": [],
   "source": [
    "MATCH(n) DETACH DELETE n;\n",
    "\n",
    "DROP CONSTRAINT n10s_unique_uri;\n",
    "\n",
    "CREATE CONSTRAINT n10s_unique_uri FOR (r:Resource) REQUIRE r.uri IS UNIQUE;\n",
    "\n",
    "CALL n10s.graphconfig.init({\n",
    "    handleVocabUris: \"SHORTEN\",\n",
    "    keepLangTag: false,\n",
    "    handleMultival: \"ARRAY\",\n",
    "    'n10s.rdf.import.fetch': 'file:///home/lukas/CS425/Automatic_Taxonomy_Construction_NNs/data/Annett-o/annett-o-test2.owl'\n",
    "});\n",
    "\n",
    "CALL n10s.rdf.import.fetch(\"https://raw.githubusercontent.com/tbraunny/Automatic_Taxonomy_Construction_NNs/f5c03faf4eaed4287cdb6729eca63a435bbf1525/data/owl/annett-o-test.owl\", \"RDF/XML\");\n",
    "\n",
    "\n",
    "CALL n10s.rdf.import.fetch(\"file:///home/lukas/CS425/Automatic_Taxonomy_Construction_NNs/data/annett-o-test.owl\", \"RDF/XML\");\n",
    "\n",
    "CALL n10s.rdf.import.fetch(\"https://raw.githubusercontent.com/iaklampanos/annett-o/refs/heads/master/annett-o-0.1.owl\", \"RDF/XML\");"
   ]
  },
  {
   "cell_type": "code",
   "execution_count": null,
   "metadata": {
    "vscode": {
     "languageId": "markdown"
    }
   },
   "outputs": [],
   "source": [
    "cypher-shell -u neo4j -p neo4j -a bolt://localhost:7687"
   ]
  }
 ],
 "metadata": {
  "kernelspec": {
   "display_name": "graphRAG",
   "language": "python",
   "name": "python3"
  },
  "language_info": {
   "codemirror_mode": {
    "name": "ipython",
    "version": 3
   },
   "file_extension": ".py",
   "mimetype": "text/x-python",
   "name": "python",
   "nbconvert_exporter": "python",
   "pygments_lexer": "ipython3",
   "version": "3.10.15"
  }
 },
 "nbformat": 4,
 "nbformat_minor": 2
}
