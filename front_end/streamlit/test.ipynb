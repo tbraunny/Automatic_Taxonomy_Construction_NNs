{
 "cells": [
  {
   "cell_type": "code",
   "execution_count": 1,
   "id": "43ea9336",
   "metadata": {},
   "outputs": [],
   "source": [
    "from neo4j import GraphDatabase\n",
    "\n",
    "url = \"bolt://localhost:7687\"\n",
    "username = \"neo4j\"\n",
    "password = \"neo4j\"\n",
    "driver = GraphDatabase.driver(url, auth=(username, password))\n",
    "\n",
    "def queryNeo4j(driver, query):\n",
    "    \"\"\"Runs a single Cypher query.\"\"\"\n",
    "    with driver.session() as session:\n",
    "        try:\n",
    "            session.run(query)\n",
    "        except Exception as e:\n",
    "            print(f\"Error executing query: {e}\")\n",
    "\n",
    "importQuery = f'CALL n10s.rdf.import.fetch(\"file:///home/lukas/CS425/Automatic_Taxonomy_Construction_NNs/data/userinput/user_owl.owl\", \"RDF/XML\");'\n",
    "queryNeo4j(driver, \"MATCH(n) DETACH DELETE n;\")\n",
    "queryNeo4j(driver, \"DROP CONSTRAINT n10s_unique_uri;\")\n",
    "queryNeo4j(driver, \"CREATE CONSTRAINT n10s_unique_uri FOR (r:Resource) REQUIRE r.uri IS UNIQUE;\")\n",
    "queryNeo4j(driver, \"CALL n10s.graphconfig.init({handleVocabUris: \\\"SHORTEN\\\", keepLangTag: false, handleMultival: \\\"ARRAY\\\"});\")\n",
    "queryNeo4j(driver, importQuery)\n",
    "queryNeo4j(driver, \"\"\"\n",
    "MATCH (n)\n",
    "WHERE n.uri STARTS WITH 'http://w3id.org/annett-o/'\n",
    "SET n.uri = SPLIT(n.uri, '/')[SIZE(SPLIT(n.uri, '/')) - 1]\n",
    "\"\"\")"
   ]
  },
  {
   "cell_type": "code",
   "execution_count": 2,
   "id": "7c1a1c0a",
   "metadata": {},
   "outputs": [
    {
     "data": {
      "application/vnd.jupyter.widget-view+json": {
       "model_id": "bad1eb25ed074ce59b881339889b9247",
       "version_major": 2,
       "version_minor": 0
      },
      "text/plain": [
       "GraphWidget(layout=Layout(height='800px', width='100%'))"
      ]
     },
     "metadata": {},
     "output_type": "display_data"
    }
   ],
   "source": [
    "from neo4j import GraphDatabase\n",
    "from yfiles_jupyter_graphs import GraphWidget\n",
    "\n",
    "url = \"bolt://localhost:7687\"\n",
    "username = \"neo4j\"\n",
    "password= \"neo4j\"\n",
    "\n",
    "driver = GraphDatabase.driver(url, auth=(username, password))\n",
    "\n",
    "from yfiles_jupyter_graphs import GraphWidget\n",
    "def showGraph():\n",
    "    session = driver.session()\n",
    "    widget = GraphWidget(graph = session.run(\"MATCH (n)-[r]->(m) RETURN n, r, m\").graph())\n",
    "    widget.node_label_mapping = 'uri'\n",
    "    widget.circular_layout()\n",
    "    widget.set_sidebar(start_with='Data')\n",
    "    return widget\n",
    "\n",
    "showGraph()"
   ]
  }
 ],
 "metadata": {
  "kernelspec": {
   "display_name": "graphRAG",
   "language": "python",
   "name": "python3"
  },
  "language_info": {
   "codemirror_mode": {
    "name": "ipython",
    "version": 3
   },
   "file_extension": ".py",
   "mimetype": "text/x-python",
   "name": "python",
   "nbconvert_exporter": "python",
   "pygments_lexer": "ipython3",
   "version": "3.10.15"
  }
 },
 "nbformat": 4,
 "nbformat_minor": 5
}
