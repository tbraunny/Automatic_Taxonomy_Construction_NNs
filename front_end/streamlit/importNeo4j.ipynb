{
 "cells": [
  {
   "cell_type": "code",
   "execution_count": 4,
   "id": "b6403752",
   "metadata": {},
   "outputs": [],
   "source": [
    "def import_ontology_to_neo4j():\n",
    "    import os\n",
    "    import logging\n",
    "    \n",
    "    from neo4j import GraphDatabase\n",
    "    \n",
    "    url = \"bolt://0.0.0.0:7687\"\n",
    "    username = \"neo4j\"\n",
    "    password = \"neo4j\"\n",
    "    driver = GraphDatabase.driver(url, auth=(username, password))\n",
    "\n",
    "    def queryNeo4j(driver, query):\n",
    "        \"\"\"Runs a single Cypher query.\"\"\"\n",
    "        with driver.session() as session:\n",
    "            try:\n",
    "                session.run(query)\n",
    "            except Exception as e:\n",
    "                pass\n",
    "\n",
    "    importQuery = 'CALL n10s.rdf.import.fetch(\"file:///home/lukas/CS425/Automatic_Taxonomy_Construction_NNs/data/userinput/user_owl.owl\", \"RDF/XML\");'\n",
    "    queryNeo4j(driver, \"MATCH(n) DETACH DELETE n;\")\n",
    "    queryNeo4j(driver, \"DROP CONSTRAINT n10s_unique_uri;\")\n",
    "    queryNeo4j(driver, \"CREATE CONSTRAINT n10s_unique_uri FOR (r:Resource) REQUIRE r.uri IS UNIQUE;\")\n",
    "    queryNeo4j(driver, \"CALL n10s.graphconfig.init({handleVocabUris: \\\"SHORTEN\\\", keepLangTag: false, handleMultival: \\\"ARRAY\\\"});\")\n",
    "    queryNeo4j(driver, importQuery)\n",
    "    queryNeo4j(driver, \"\"\"\n",
    "    MATCH (n)\n",
    "    WHERE n.uri STARTS WITH 'http://w3id.org/annett-o/'\n",
    "    SET n.uri = SPLIT(n.uri, '/')[SIZE(SPLIT(n.uri, '/')) - 1]\n",
    "    \"\"\")\n",
    "\n",
    "import_ontology_to_neo4j()\n",
    "        "
   ]
  }
 ],
 "metadata": {
  "kernelspec": {
   "display_name": ".venv",
   "language": "python",
   "name": "python3"
  },
  "language_info": {
   "codemirror_mode": {
    "name": "ipython",
    "version": 3
   },
   "file_extension": ".py",
   "mimetype": "text/x-python",
   "name": "python",
   "nbconvert_exporter": "python",
   "pygments_lexer": "ipython3",
   "version": "3.12.3"
  }
 },
 "nbformat": 4,
 "nbformat_minor": 5
}
