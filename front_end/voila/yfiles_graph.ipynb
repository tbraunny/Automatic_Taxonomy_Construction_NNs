{
 "cells": [
  {
   "cell_type": "code",
   "execution_count": 1,
   "metadata": {},
   "outputs": [],
   "source": [
    "from neo4j import GraphDatabase\n",
    "url = \"bolt://localhost:7687\"\n",
    "username = \"neo4j\"\n",
    "password= \"neo4j\"\n",
    "\n",
    "from langchain_neo4j import Neo4jGraph\n",
    "graph = Neo4jGraph(url=url, username=username, password=password)\n",
    "driver = GraphDatabase.driver(url, auth=(username, password))\n",
    "session = driver.session()\n",
    "\n",
    "import ipywidgets as widgets\n",
    "from IPython.display import display, clear_output\n",
    "from yfiles_jupyter_graphs import GraphWidget\n",
    "from neo4j import GraphDatabase\n"
   ]
  },
  {
   "cell_type": "code",
   "execution_count": null,
   "metadata": {},
   "outputs": [
    {
     "data": {
      "application/vnd.jupyter.widget-view+json": {
       "model_id": "cdb9257f44264e338190710186503b58",
       "version_major": 2,
       "version_minor": 0
      },
      "text/plain": [
       "Tab(children=(Output(layout=Layout(border_bottom='1px solid black', border_left='1px solid black', border_righ…"
      ]
     },
     "metadata": {},
     "output_type": "display_data"
    }
   ],
   "source": [
    "from yfiles_jupyter_graphs import GraphWidget\n",
    "import ipywidgets as widgets\n",
    "from IPython.display import display\n",
    "\n",
    "def showGraph(query, layout):\n",
    "    # Create an Output widget to capture and display the graph\n",
    "    out = widgets.Output(layout={'border': '1px solid black'})\n",
    "    \n",
    "    # Create the GraphWidget inside the Output context\n",
    "    with out:\n",
    "        session = driver.session()\n",
    "        graph_data = session.run(query).graph()\n",
    "        widget = GraphWidget(graph=graph_data)\n",
    "        widget.set_sidebar(start_with='Data')\n",
    "\n",
    "        # Define the update function for resizing\n",
    "        def update_graph_size(change, dimension):\n",
    "            new_size = change['new']\n",
    "            if dimension == 'width':\n",
    "                widget.layout.width = f'{new_size}px'\n",
    "            elif dimension == 'height':\n",
    "                widget.layout.height = f'{new_size}px'\n",
    "\n",
    "        # Create sliders for width and height\n",
    "        width_slider = widgets.FloatSlider(\n",
    "            value=2550,  # Initial width\n",
    "            min=400,    # Minimum width\n",
    "            max=2550,   # Maximum width\n",
    "            step=50,    # Step size\n",
    "            description='Width:',\n",
    "            continuous_update=True\n",
    "        )\n",
    "        height_slider = widgets.FloatSlider(\n",
    "            value=1200,  # Initial height\n",
    "            min=400,    # Minimum height\n",
    "            max=1200,   # Maximum height\n",
    "            step=50,    # Step size\n",
    "            description='Height:',\n",
    "            continuous_update=True\n",
    "        )\n",
    "\n",
    "        # Link sliders to the update function\n",
    "        width_slider.observe(lambda change: update_graph_size(change, 'width'), names='value')\n",
    "        height_slider.observe(lambda change: update_graph_size(change, 'height'), names='value')\n",
    "        widget.layout.width = '2550px'\n",
    "        widget.layout.height = '1200px'\n",
    "        \n",
    "        # Apply the chosen layout\n",
    "        if layout == \"hierarchic\":\n",
    "            widget.hierarchic_layout()\n",
    "        elif layout == \"radial\":\n",
    "            widget.radial_layout()\n",
    "            widget.node_label_mapping = 'uri'\n",
    "\n",
    "        # Display the sliders and the graph\n",
    "        display(width_slider, height_slider, widget)\n",
    "    \n",
    "    return out\n",
    "\n",
    "# Create Tab widget to display the two graphs on separate pages\n",
    "tab = widgets.Tab()\n",
    "\n",
    "# Define the queries and layouts\n",
    "graph1 = showGraph(\"\"\"\n",
    "    MATCH (a:Taxonomy)-[r]->(b)\n",
    "    RETURN a, r, b\n",
    "          \"\"\", \"hierarchic\")\n",
    "graph2 = showGraph(\"\"\"\n",
    "    MATCH (a)\n",
    "    WHERE a.uri in [\"709942bd_alexnet\"]\n",
    "    MATCH (a)-[r*1..7]->(b)\n",
    "    RETURN a, r, b\n",
    "          \"\"\", \"radial\")\n",
    "graph3 = showGraph(\"\"\"\n",
    "    MATCH (a)-[r]->(b)\n",
    "    RETURN a, r, b\n",
    "          \"\"\", \"radial\")\n",
    "\n",
    "# Set the tabs to contain the two graphs\n",
    "tab.children = [graph1, graph2, graph3]\n",
    "\n",
    "# Set the tab titles\n",
    "tab.set_title(0, 'Taxonomy')\n",
    "tab.set_title(1, 'Ontology')\n",
    "tab.set_title(2, 'Test')\n",
    "# Display the tab widget\n",
    "display(tab)"
   ]
  },
  {
   "cell_type": "markdown",
   "metadata": {},
   "source": [
    "Used to embed onto streamlit, also starts voila\n",
    "\n",
    "voila yfiles_graph.ipynb --Voila.tornado_settings=\"{'headers':{'Content-Security-Policy':'frame-ancestors *'}}\""
   ]
  },
  {
   "cell_type": "markdown",
   "metadata": {},
   "source": [
    "<!-- MATCH (a)\n",
    "WHERE a.uri in [\"AAE\",\"GAN\"]\n",
    "MATCH (a)-[r*1..2]->(b)\n",
    "RETURN a, r, b -->\n",
    "\n",
    "<!-- MATCH (a)-[r:ns0__hasTaskType]-(b)\n",
    "RETURN a, r, b -->\n"
   ]
  },
  {
   "cell_type": "markdown",
   "metadata": {},
   "source": [
    "<!-- MATCH (a)\n",
    "    WHERE a.uri in [\"AAE\",\"GAN\"]\n",
    "    MATCH (a)-[r*1..2]->(b)\n",
    "    RETURN a, r, b\n",
    "\n",
    "\n",
    "MATCH (n)-[r]->(m) RETURN n, r, m -->\n",
    "\n",
    "<!-- MATCH (a)-[r:ns0__hasTaskType]->(b)\n",
    "RETURN a, r, b; -->"
   ]
  }
 ],
 "metadata": {
  "kernelspec": {
   "display_name": "venv",
   "language": "python",
   "name": "python3"
  },
  "language_info": {
   "codemirror_mode": {
    "name": "ipython",
    "version": 3
   },
   "file_extension": ".py",
   "mimetype": "text/x-python",
   "name": "python",
   "nbconvert_exporter": "python",
   "pygments_lexer": "ipython3",
   "version": "3.10.12"
  }
 },
 "nbformat": 4,
 "nbformat_minor": 2
}
